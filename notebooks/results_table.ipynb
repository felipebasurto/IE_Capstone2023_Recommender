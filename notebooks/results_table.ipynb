{
 "cells": [
  {
   "attachments": {},
   "cell_type": "markdown",
   "metadata": {},
   "source": [
    "| Model   | group_auc | mean_mrr | ndcg@5 | ndcg@10 |\n",
    "|----------|----------|----------|--------|---------|\n",
    "| Popularity    |   -  |   -  | 0.2766 |  0.333 |\n",
    "| Random    |   -  |   -  | 0.2194 |  0.3631 |\n",
    "| NPA    |   0.5968   |   0.2718   | 0.2926  |  0.3601 |\n",
    "| NMRS    |   0.6169  |   0.2729  | 0.2948 |  0.3659 |\n",
    "| NAML    |   0.6187  |   0.2848  | 0.3098 |  0.3736 |\n",
    "| LSTUR    |   0.6443  |   0.2961  | 0.327 |  0.3897 |\n"
   ]
  }
 ],
 "metadata": {
  "kernelspec": {
   "display_name": "WebApp",
   "language": "python",
   "name": "python3"
  },
  "language_info": {
   "codemirror_mode": {
    "name": "ipython",
    "version": 3
   },
   "file_extension": ".py",
   "mimetype": "text/x-python",
   "name": "python",
   "nbconvert_exporter": "python",
   "pygments_lexer": "ipython3",
   "version": "3.10.8"
  },
  "orig_nbformat": 4
 },
 "nbformat": 4,
 "nbformat_minor": 2
}
