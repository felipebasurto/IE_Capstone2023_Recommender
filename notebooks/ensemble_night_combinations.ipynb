{
 "cells": [
  {
   "cell_type": "markdown",
   "metadata": {
    "id": "DVoD1nHt4q2X"
   },
   "source": [
    "# **MODEL ENSEMBLING - NIGHT TIME CONTEXT**"
   ]
  },
  {
   "cell_type": "markdown",
   "metadata": {
    "id": "qqTEhc6r4xwB"
   },
   "source": [
    "Mounting Google Drive"
   ]
  },
  {
   "cell_type": "code",
   "execution_count": 1,
   "metadata": {
    "colab": {
     "base_uri": "https://localhost:8080/"
    },
    "executionInfo": {
     "elapsed": 19914,
     "status": "ok",
     "timestamp": 1688558008630,
     "user": {
      "displayName": "Felipe",
      "userId": "11137218389170719999"
     },
     "user_tz": -120
    },
    "id": "5ax3EH07irMm",
    "outputId": "15938b56-1907-4a4d-a36f-2b83ab805218"
   },
   "outputs": [
    {
     "name": "stdout",
     "output_type": "stream",
     "text": [
      "Mounted at /content/drive\n"
     ]
    }
   ],
   "source": [
    "from google.colab import drive\n",
    "drive.mount('/content/drive')"
   ]
  },
  {
   "cell_type": "markdown",
   "metadata": {
    "id": "QT8y7TWa40fO"
   },
   "source": [
    "Initial setup"
   ]
  },
  {
   "cell_type": "code",
   "execution_count": 2,
   "metadata": {
    "executionInfo": {
     "elapsed": 1089,
     "status": "ok",
     "timestamp": 1688558011501,
     "user": {
      "displayName": "Felipe",
      "userId": "11137218389170719999"
     },
     "user_tz": -120
    },
    "id": "ngbSQulsji2W"
   },
   "outputs": [],
   "source": [
    "import pickle\n",
    "import pandas as pd\n",
    "from itertools import combinations\n",
    "from sklearn.metrics import ndcg_score, accuracy_score, precision_score\n",
    "from sklearn.preprocessing import StandardScaler\n",
    "import numpy as np\n",
    "import warnings"
   ]
  },
  {
   "cell_type": "code",
   "execution_count": 5,
   "metadata": {
    "colab": {
     "base_uri": "https://localhost:8080/"
    },
    "executionInfo": {
     "elapsed": 566,
     "status": "ok",
     "timestamp": 1688558019405,
     "user": {
      "displayName": "Felipe",
      "userId": "11137218389170719999"
     },
     "user_tz": -120
    },
    "id": "J5rPV7EYjPfM",
    "outputId": "497e5b64-9f8d-4bd2-b42a-d131afe9a586"
   },
   "outputs": [
    {
     "name": "stdout",
     "output_type": "stream",
     "text": [
      "/content/drive/MyDrive/IMPACT PROJECT/ALL PREDS/night\n"
     ]
    }
   ],
   "source": [
    "route = '/content/drive/MyDrive/IMPACT PROJECT/ALL PREDS/night'\n",
    "\n",
    "%cd {route}"
   ]
  },
  {
   "cell_type": "markdown",
   "metadata": {
    "id": "9Nixm02441_H"
   },
   "source": [
    "Loading the predictions"
   ]
  },
  {
   "cell_type": "code",
   "execution_count": 9,
   "metadata": {
    "executionInfo": {
     "elapsed": 1978,
     "status": "ok",
     "timestamp": 1688558066409,
     "user": {
      "displayName": "Felipe",
      "userId": "11137218389170719999"
     },
     "user_tz": -120
    },
    "id": "NW18-aB7jYtA"
   },
   "outputs": [],
   "source": [
    "with open('group_labels_night.pkl', 'rb') as f:\n",
    "        labels = pickle.load(f)\n",
    "\n",
    "with open('night_naml.pkl', 'rb') as f:\n",
    "        naml = pickle.load(f)\n",
    "\n",
    "with open('night_nrms.pkl', 'rb') as f:\n",
    "        nrms = pickle.load(f)\n",
    "\n",
    "with open('night_lstur.pkl', 'rb') as f:\n",
    "        lstur = pickle.load(f)"
   ]
  },
  {
   "cell_type": "markdown",
   "metadata": {
    "id": "HGMOyq1Tk8U8"
   },
   "source": [
    "----"
   ]
  },
  {
   "cell_type": "markdown",
   "metadata": {
    "id": "UZYUmOM34376"
   },
   "source": [
    "Function definitions"
   ]
  },
  {
   "cell_type": "code",
   "execution_count": 10,
   "metadata": {
    "executionInfo": {
     "elapsed": 289,
     "status": "ok",
     "timestamp": 1688558069816,
     "user": {
      "displayName": "Felipe",
      "userId": "11137218389170719999"
     },
     "user_tz": -120
    },
    "id": "kid86XAPk9O1",
    "tags": []
   },
   "outputs": [],
   "source": [
    "def dcg_score(y_true, y_score, k=10):\n",
    "    \"\"\"\n",
    "    Computing dcg score metric at k.\n",
    "    \"\"\"\n",
    "    k = min(np.shape(y_true)[-1], k)\n",
    "    order = np.argsort(y_score)[::-1]\n",
    "    y_true = np.take(y_true, order[:k])\n",
    "    gains = 2 ** y_true - 1\n",
    "    discounts = np.log2(np.arange(len(y_true)) + 2)\n",
    "    return np.sum(gains / discounts)\n",
    "\n",
    "def ndcg_score(y_true, y_score, k=10):\n",
    "    \"\"\"\n",
    "    Computing ndcg score metric at k.\n",
    "    \"\"\"\n",
    "    best = dcg_score(y_true, y_true, k)\n",
    "    actual = dcg_score(y_true, y_score, k)\n",
    "    return actual / best\n",
    "\n",
    "def calculate_ndcg(y_true, y_pred, k):\n",
    "    \"\"\"\n",
    "    Computing ndcg score metric at k.\n",
    "    \"\"\"\n",
    "    ndcg = np.mean(\n",
    "        [\n",
    "            ndcg_score(each_labels, each_preds, k)\n",
    "            for each_labels, each_preds in zip(y_true, y_pred)\n",
    "        ]\n",
    "    )\n",
    "    return ndcg\n",
    "\n",
    "def normalize_array(arr):\n",
    "    \"\"\"\n",
    "    Scales and normalizes an array.\n",
    "    \"\"\"\n",
    "    scaler = StandardScaler()\n",
    "    normalized_arr = scaler.fit_transform(arr.reshape(-1, 1))\n",
    "    return normalized_arr.flatten()\n",
    "\n",
    "def transform_to_binary_with_threshold(arr, threshold):\n",
    "    \"\"\"\n",
    "    Transforms an array filled with predictions to a binary one.\n",
    "    \"\"\"\n",
    "    return [1 if value >= threshold else 0 for value in arr]\n",
    "\n",
    "def calculate_precision(y_true, y_pred):\n",
    "    \"\"\"\n",
    "    Calculates the precision @10\n",
    "    \"\"\"\n",
    "    first_10_elements = [arr[:10] for arr in y_pred]\n",
    "    first_10_elements_true = [arr[:10] for arr in y_true]\n",
    "    normalized_array = normalize_array(np.concatenate(first_10_elements))\n",
    "    binary_result = transform_to_binary_with_threshold(normalized_array, 0.9)\n",
    "    prec = precision_score(np.concatenate(first_10_elements_true), binary_result)\n",
    "    return prec\n",
    "\n",
    "def calculate_mean(predictions):\n",
    "    \"\"\"\n",
    "    Calculate mean predictions between a dictionary of preds\n",
    "    \"\"\"\n",
    "    y_pred_mean = np.mean(list(predictions.values()), axis=0)\n",
    "    return y_pred_mean.tolist()"
   ]
  },
  {
   "cell_type": "markdown",
   "metadata": {},
   "source": [
    "## Create and Score Ensemblers"
   ]
  },
  {
   "cell_type": "code",
   "execution_count": 12,
   "metadata": {
    "executionInfo": {
     "elapsed": 3,
     "status": "ok",
     "timestamp": 1688558079104,
     "user": {
      "displayName": "Felipe",
      "userId": "11137218389170719999"
     },
     "user_tz": -120
    },
    "id": "Elzm9fHPzUgn"
   },
   "outputs": [],
   "source": [
    "predictions = {'naml': naml, 'nrms': nrms, 'lstur': lstur}"
   ]
  },
  {
   "cell_type": "code",
   "execution_count": 13,
   "metadata": {
    "colab": {
     "base_uri": "https://localhost:8080/"
    },
    "executionInfo": {
     "elapsed": 10835,
     "status": "ok",
     "timestamp": 1688558092612,
     "user": {
      "displayName": "Felipe",
      "userId": "11137218389170719999"
     },
     "user_tz": -120
    },
    "id": "mwqM-4e-laxN",
    "outputId": "98ffa5f2-e1b7-4c12-8b9f-514e477d83f8"
   },
   "outputs": [
    {
     "name": "stdout",
     "output_type": "stream",
     "text": [
      "Model combination ('naml',) yields NDCG@5: 0.37176186276160134 and NDCG@10: 0.4301134262209204 -- precision: 0.14815011412495355\n",
      "Model combination ('nrms',) yields NDCG@5: 0.3835319483189469 and NDCG@10: 0.44187869597949364 -- precision: 0.15595378448479133\n",
      "Model combination ('lstur',) yields NDCG@5: 0.37541001269471186 and NDCG@10: 0.4330957831236402 -- precision: 0.15974922239502332\n",
      "Model combination ('naml', 'nrms') yields NDCG@5: 0.3843732919632026 and NDCG@10: 0.44327322149593545 -- precision: 0.1553926206244087\n",
      "Model combination ('naml', 'lstur') yields NDCG@5: 0.37926755167614457 and NDCG@10: 0.4388138619285962 -- precision: 0.15941155796555706\n",
      "Model combination ('nrms', 'lstur') yields NDCG@5: 0.3874559003742706 and NDCG@10: 0.44570832270592914 -- precision: 0.1616752456715021\n",
      "Model combination ('naml', 'nrms', 'lstur') yields NDCG@5: 0.38578471437132683 and NDCG@10: 0.445001920252726 -- precision: 0.16131327987854058\n",
      "\n",
      "-- Best  NDCG@5 = 0.3874559003742706 by model combination ('nrms', 'lstur') --\n",
      "-- Best  NDCG@10 = 0.44570832270592914 by model combination ('nrms', 'lstur') --\n",
      "-- Best  precision = 0.1616752456715021 by model combination ('nrms', 'lstur') --\n"
     ]
    }
   ],
   "source": [
    "# Suppress the warning\n",
    "warnings.filterwarnings(\"ignore\", category=np.VisibleDeprecationWarning)\n",
    "\n",
    "# Calculating the best combination of models\n",
    "\n",
    "best_ndcg_10 = 0\n",
    "best_ndcg_5 = 0\n",
    "best_precision = 0\n",
    "\n",
    "best_combination_10 = ()\n",
    "best_combination_5 = ()\n",
    "best_combination_p = ()\n",
    "\n",
    "for r in range(1, len(predictions) + 1):\n",
    "    for subset in combinations(predictions.keys(), r):\n",
    "        subset_predictions = {model: predictions[model] for model in subset}\n",
    "        y_pred = calculate_mean(subset_predictions)\n",
    "\n",
    "        ndcg_10 = calculate_ndcg(labels, y_pred, k=10)\n",
    "        ndcg_5 = calculate_ndcg(labels, y_pred, k=5)\n",
    "        precision = calculate_precision(labels, y_pred)\n",
    "\n",
    "        print(f\"Model combination {subset} yields NDCG@5: {ndcg_5} and NDCG@10: {ndcg_10} -- precision: {precision}\")\n",
    "\n",
    "        if ndcg_10 > best_ndcg_10:\n",
    "            best_ndcg_10 = ndcg_10\n",
    "            best_combination_10 = subset\n",
    "\n",
    "        if ndcg_5 > best_ndcg_5:\n",
    "            best_ndcg_5 = ndcg_5\n",
    "            best_combination_5 = subset\n",
    "\n",
    "        if precision > best_precision:\n",
    "            best_precision = precision\n",
    "            best_combination_p = subset\n",
    "\n",
    "print(f\"\\n-- Best  NDCG@5 = {best_ndcg_5} by model combination {best_combination_5} --\")\n",
    "print(f\"-- Best  NDCG@10 = {best_ndcg_10} by model combination {best_combination_10} --\")\n",
    "print(f\"-- Best  precision = {best_precision} by model combination {best_combination_p} --\")"
   ]
  }
 ],
 "metadata": {
  "accelerator": "GPU",
  "colab": {
   "authorship_tag": "ABX9TyOycKhQ6kqPp/Y5ki43VboR",
   "gpuType": "T4",
   "machine_shape": "hm",
   "mount_file_id": "1sYO-RglZKiIjseVlol083grCP9byQKCa",
   "provenance": []
  },
  "kernelspec": {
   "display_name": "Python 3 (ipykernel)",
   "language": "python",
   "name": "python3"
  },
  "language_info": {
   "codemirror_mode": {
    "name": "ipython",
    "version": 3
   },
   "file_extension": ".py",
   "mimetype": "text/x-python",
   "name": "python",
   "nbconvert_exporter": "python",
   "pygments_lexer": "ipython3",
   "version": "3.9.12"
  }
 },
 "nbformat": 4,
 "nbformat_minor": 4
}
