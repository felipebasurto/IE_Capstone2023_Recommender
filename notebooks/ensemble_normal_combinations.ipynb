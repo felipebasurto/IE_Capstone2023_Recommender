{
 "cells": [
  {
   "cell_type": "markdown",
   "metadata": {
    "id": "DVoD1nHt4q2X"
   },
   "source": [
    "# **MODEL ENSEMBLING - NO CONTEXT**"
   ]
  },
  {
   "cell_type": "markdown",
   "metadata": {
    "id": "qqTEhc6r4xwB"
   },
   "source": [
    "Mounting Google Drive"
   ]
  },
  {
   "cell_type": "code",
   "execution_count": 116,
   "metadata": {
    "colab": {
     "base_uri": "https://localhost:8080/"
    },
    "executionInfo": {
     "elapsed": 2308,
     "status": "ok",
     "timestamp": 1688557589107,
     "user": {
      "displayName": "Felipe",
      "userId": "11137218389170719999"
     },
     "user_tz": -120
    },
    "id": "5ax3EH07irMm",
    "outputId": "58737738-9caa-474e-d188-f1f02f067276"
   },
   "outputs": [
    {
     "name": "stdout",
     "output_type": "stream",
     "text": [
      "Drive already mounted at /content/drive; to attempt to forcibly remount, call drive.mount(\"/content/drive\", force_remount=True).\n"
     ]
    }
   ],
   "source": [
    "from google.colab import drive\n",
    "drive.mount('/content/drive')"
   ]
  },
  {
   "cell_type": "markdown",
   "metadata": {
    "id": "QT8y7TWa40fO"
   },
   "source": [
    "Initial setup"
   ]
  },
  {
   "cell_type": "code",
   "execution_count": 117,
   "metadata": {
    "executionInfo": {
     "elapsed": 8,
     "status": "ok",
     "timestamp": 1688557589108,
     "user": {
      "displayName": "Felipe",
      "userId": "11137218389170719999"
     },
     "user_tz": -120
    },
    "id": "ngbSQulsji2W"
   },
   "outputs": [],
   "source": [
    "import pickle\n",
    "import pandas as pd\n",
    "from itertools import combinations\n",
    "from sklearn.metrics import ndcg_score, accuracy_score, precision_score\n",
    "from sklearn.preprocessing import StandardScaler\n",
    "import numpy as np\n",
    "import warnings"
   ]
  },
  {
   "cell_type": "code",
   "execution_count": 118,
   "metadata": {
    "colab": {
     "base_uri": "https://localhost:8080/"
    },
    "executionInfo": {
     "elapsed": 7,
     "status": "ok",
     "timestamp": 1688557589108,
     "user": {
      "displayName": "Felipe",
      "userId": "11137218389170719999"
     },
     "user_tz": -120
    },
    "id": "J5rPV7EYjPfM",
    "outputId": "97436907-c8ba-4cf3-d9ce-282558f78263"
   },
   "outputs": [
    {
     "name": "stdout",
     "output_type": "stream",
     "text": [
      "/content/drive/MyDrive/IMPACT PROJECT/ALL PREDS\n"
     ]
    }
   ],
   "source": [
    "route = '/content/drive/MyDrive/IMPACT PROJECT/ALL PREDS'\n",
    "\n",
    "%cd {route}"
   ]
  },
  {
   "cell_type": "markdown",
   "metadata": {
    "id": "9Nixm02441_H"
   },
   "source": [
    "Loading the predictions"
   ]
  },
  {
   "cell_type": "code",
   "execution_count": 119,
   "metadata": {
    "executionInfo": {
     "elapsed": 1957,
     "status": "ok",
     "timestamp": 1688557591061,
     "user": {
      "displayName": "Felipe",
      "userId": "11137218389170719999"
     },
     "user_tz": -120
    },
    "id": "NW18-aB7jYtA"
   },
   "outputs": [],
   "source": [
    "with open('group_labels.pkl', 'rb') as f:\n",
    "        labels = pickle.load(f)\n",
    "\n",
    "with open('naml.pkl', 'rb') as f:\n",
    "        naml = pickle.load(f)\n",
    "\n",
    "with open('naml.pkl', 'rb') as f:\n",
    "        naml = pickle.load(f)\n",
    "\n",
    "with open('npa.pkl', 'rb') as f:\n",
    "        npa = pickle.load(f)\n",
    "\n",
    "with open('nrms.pkl', 'rb') as f:\n",
    "        nrms = pickle.load(f)\n",
    "\n",
    "with open('lstur.pkl', 'rb') as f:\n",
    "        lstur = pickle.load(f)"
   ]
  },
  {
   "cell_type": "markdown",
   "metadata": {
    "id": "HGMOyq1Tk8U8"
   },
   "source": [
    "----"
   ]
  },
  {
   "cell_type": "markdown",
   "metadata": {
    "id": "UZYUmOM34376"
   },
   "source": [
    "Function definitions"
   ]
  },
  {
   "cell_type": "code",
   "execution_count": 120,
   "metadata": {
    "executionInfo": {
     "elapsed": 6,
     "status": "ok",
     "timestamp": 1688557591061,
     "user": {
      "displayName": "Felipe",
      "userId": "11137218389170719999"
     },
     "user_tz": -120
    },
    "id": "kid86XAPk9O1"
   },
   "outputs": [],
   "source": [
    "def dcg_score(y_true, y_score, k=10):\n",
    "    \"\"\"\n",
    "    Computing dcg score metric at k.\n",
    "    \"\"\"\n",
    "    k = min(np.shape(y_true)[-1], k)\n",
    "    order = np.argsort(y_score)[::-1]\n",
    "    y_true = np.take(y_true, order[:k])\n",
    "    gains = 2 ** y_true - 1\n",
    "    discounts = np.log2(np.arange(len(y_true)) + 2)\n",
    "    return np.sum(gains / discounts)\n",
    "\n",
    "def ndcg_score(y_true, y_score, k=10):\n",
    "    \"\"\"\n",
    "    Computing ndcg score metric at k.\n",
    "    \"\"\"\n",
    "    best = dcg_score(y_true, y_true, k)\n",
    "    actual = dcg_score(y_true, y_score, k)\n",
    "    return actual / best\n",
    "\n",
    "def calculate_ndcg(y_true, y_pred, k):\n",
    "    \"\"\"\n",
    "    Computing ndcg score metric at k.\n",
    "    \"\"\"\n",
    "    ndcg = np.mean(\n",
    "        [\n",
    "            ndcg_score(each_labels, each_preds, k)\n",
    "            for each_labels, each_preds in zip(y_true, y_pred)\n",
    "        ]\n",
    "    )\n",
    "    return ndcg\n",
    "\n",
    "def normalize_array(arr):\n",
    "    \"\"\"\n",
    "    Scales and normalizes an array.\n",
    "    \"\"\"\n",
    "    scaler = StandardScaler()\n",
    "    normalized_arr = scaler.fit_transform(arr.reshape(-1, 1))\n",
    "    return normalized_arr.flatten()\n",
    "\n",
    "def transform_to_binary_with_threshold(arr, threshold):\n",
    "    \"\"\"\n",
    "    Transforms an array filled with predictions to a binary one.\n",
    "    \"\"\"\n",
    "    return [1 if value >= threshold else 0 for value in arr]\n",
    "\n",
    "def calculate_precision(y_true, y_pred):\n",
    "    \"\"\"\n",
    "    Calculates the precision @10\n",
    "    \"\"\"\n",
    "    first_10_elements = [arr[:10] for arr in y_pred]\n",
    "    first_10_elements_true = [arr[:10] for arr in y_true]\n",
    "    normalized_array = normalize_array(np.concatenate(first_10_elements))\n",
    "    binary_result = transform_to_binary_with_threshold(normalized_array, 0.9)\n",
    "    prec = precision_score(np.concatenate(first_10_elements_true), binary_result)\n",
    "    return prec\n",
    "\n",
    "def calculate_mean(predictions):\n",
    "    \"\"\"\n",
    "    Calculate mean predictions between a dictionary of preds\n",
    "    \"\"\"\n",
    "    y_pred_mean = np.mean(list(predictions.values()), axis=0)\n",
    "    return y_pred_mean.tolist()"
   ]
  },
  {
   "cell_type": "code",
   "execution_count": 121,
   "metadata": {
    "executionInfo": {
     "elapsed": 5,
     "status": "ok",
     "timestamp": 1688557591061,
     "user": {
      "displayName": "Felipe",
      "userId": "11137218389170719999"
     },
     "user_tz": -120
    },
    "id": "uPYwjHiL3SSo"
   },
   "outputs": [],
   "source": [
    "# Correcting the format for the npa predictions array\n",
    "\n",
    "npa2 = []\n",
    "for i in npa:\n",
    "    npa2.append(np.array(i))"
   ]
  },
  {
   "cell_type": "markdown",
   "metadata": {},
   "source": [
    "## Create and Score Ensemblers"
   ]
  },
  {
   "cell_type": "code",
   "execution_count": 122,
   "metadata": {
    "executionInfo": {
     "elapsed": 6,
     "status": "ok",
     "timestamp": 1688557591062,
     "user": {
      "displayName": "Felipe",
      "userId": "11137218389170719999"
     },
     "user_tz": -120
    },
    "id": "Elzm9fHPzUgn"
   },
   "outputs": [],
   "source": [
    "predictions = {'naml': naml, 'nrms': nrms, 'lstur': lstur, 'npa': npa2}"
   ]
  },
  {
   "cell_type": "code",
   "execution_count": 123,
   "metadata": {
    "colab": {
     "base_uri": "https://localhost:8080/"
    },
    "executionInfo": {
     "elapsed": 109271,
     "status": "ok",
     "timestamp": 1688557700327,
     "user": {
      "displayName": "Felipe",
      "userId": "11137218389170719999"
     },
     "user_tz": -120
    },
    "id": "mwqM-4e-laxN",
    "outputId": "d73dc8f5-f031-4625-bbf6-b0c659106b0b"
   },
   "outputs": [
    {
     "name": "stdout",
     "output_type": "stream",
     "text": [
      "Model combination ('naml',) yields NDCG@5: 0.34075560019302104 and NDCG@10: 0.40379306879295496 -- precision: 0.13262965574079774\n",
      "Model combination ('nrms',) yields NDCG@5: 0.3450982258934691 and NDCG@10: 0.40991177890021435 -- precision: 0.143447566506148\n",
      "Model combination ('lstur',) yields NDCG@5: 0.3473849017773787 and NDCG@10: 0.40904972548163937 -- precision: 0.13947941899942948\n",
      "Model combination ('npa',) yields NDCG@5: 0.32882768195760836 and NDCG@10: 0.3926453560892696 -- precision: 0.1314121481177346\n",
      "Model combination ('naml', 'nrms') yields NDCG@5: 0.3483196929637528 and NDCG@10: 0.41220158260129014 -- precision: 0.13958637026239068\n",
      "Model combination ('naml', 'lstur') yields NDCG@5: 0.3495521503302876 and NDCG@10: 0.4115712492075966 -- precision: 0.1425198079700246\n",
      "Model combination ('naml', 'npa') yields NDCG@5: 0.34140139823065535 and NDCG@10: 0.4041923658376537 -- precision: 0.13311802288843644\n",
      "Model combination ('nrms', 'lstur') yields NDCG@5: 0.35051582205903126 and NDCG@10: 0.4140192594801993 -- precision: 0.14518391377369286\n",
      "Model combination ('nrms', 'npa') yields NDCG@5: 0.34556307560800614 and NDCG@10: 0.4100548329297483 -- precision: 0.14303577503378906\n",
      "Model combination ('lstur', 'npa') yields NDCG@5: 0.3486375744702151 and NDCG@10: 0.41026908714445676 -- precision: 0.14042252192775628\n",
      "Model combination ('naml', 'nrms', 'lstur') yields NDCG@5: 0.35123736723542187 and NDCG@10: 0.4142284586126302 -- precision: 0.14458359774534324\n",
      "Model combination ('naml', 'nrms', 'npa') yields NDCG@5: 0.3481904830170794 and NDCG@10: 0.41210303983482904 -- precision: 0.1398040718038529\n",
      "Model combination ('naml', 'lstur', 'npa') yields NDCG@5: 0.3495473230161504 and NDCG@10: 0.4115849303552431 -- precision: 0.14248770644358677\n",
      "Model combination ('nrms', 'lstur', 'npa') yields NDCG@5: 0.35048666374504295 and NDCG@10: 0.4140526638261027 -- precision: 0.14541952015337395\n",
      "Model combination ('naml', 'nrms', 'lstur', 'npa') yields NDCG@5: 0.35122854039064927 and NDCG@10: 0.4141557153884583 -- precision: 0.14422960330563095\n",
      "\n",
      "-- Best  NDCG@5 = 0.35123736723542187 by model combination ('naml', 'nrms', 'lstur') --\n",
      "-- Best  NDCG@10 = 0.4142284586126302 by model combination ('naml', 'nrms', 'lstur') --\n",
      "-- Best  precision = 0.14541952015337395 by model combination ('nrms', 'lstur', 'npa') --\n"
     ]
    }
   ],
   "source": [
    "# Suppress the warning\n",
    "warnings.filterwarnings(\"ignore\", category=np.VisibleDeprecationWarning)\n",
    "\n",
    "# Calculating the best combination of models\n",
    "\n",
    "best_ndcg_10 = 0\n",
    "best_ndcg_5 = 0\n",
    "best_precision = 0\n",
    "\n",
    "best_combination_10 = ()\n",
    "best_combination_5 = ()\n",
    "best_combination_p = ()\n",
    "\n",
    "for r in range(1, len(predictions) + 1):\n",
    "    for subset in combinations(predictions.keys(), r):\n",
    "        subset_predictions = {model: predictions[model] for model in subset}\n",
    "        y_pred = calculate_mean(subset_predictions)\n",
    "\n",
    "        ndcg_10 = calculate_ndcg(labels, y_pred, k=10)\n",
    "        ndcg_5 = calculate_ndcg(labels, y_pred, k=5)\n",
    "        precision = calculate_precision(labels, y_pred)\n",
    "\n",
    "        print(f\"Model combination {subset} yields NDCG@5: {ndcg_5} and NDCG@10: {ndcg_10} -- precision: {precision}\")\n",
    "\n",
    "        if ndcg_10 > best_ndcg_10:\n",
    "            best_ndcg_10 = ndcg_10\n",
    "            best_combination_10 = subset\n",
    "\n",
    "        if ndcg_5 > best_ndcg_5:\n",
    "            best_ndcg_5 = ndcg_5\n",
    "            best_combination_5 = subset\n",
    "\n",
    "        if precision > best_precision:\n",
    "            best_precision = precision\n",
    "            best_combination_p = subset\n",
    "\n",
    "print(f\"\\n-- Best  NDCG@5 = {best_ndcg_5} by model combination {best_combination_5} --\")\n",
    "print(f\"-- Best  NDCG@10 = {best_ndcg_10} by model combination {best_combination_10} --\")\n",
    "print(f\"-- Best  precision = {best_precision} by model combination {best_combination_p} --\")"
   ]
  }
 ],
 "metadata": {
  "accelerator": "GPU",
  "colab": {
   "authorship_tag": "ABX9TyOPzhRHaCFyxPOHfLRnERg+",
   "gpuType": "T4",
   "machine_shape": "hm",
   "mount_file_id": "1sYO-RglZKiIjseVlol083grCP9byQKCa",
   "provenance": []
  },
  "kernelspec": {
   "display_name": "Python 3 (ipykernel)",
   "language": "python",
   "name": "python3"
  },
  "language_info": {
   "codemirror_mode": {
    "name": "ipython",
    "version": 3
   },
   "file_extension": ".py",
   "mimetype": "text/x-python",
   "name": "python",
   "nbconvert_exporter": "python",
   "pygments_lexer": "ipython3",
   "version": "3.9.12"
  }
 },
 "nbformat": 4,
 "nbformat_minor": 4
}
